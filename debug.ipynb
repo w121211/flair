{
 "cells": [
  {
   "cell_type": "code",
   "execution_count": 1,
   "metadata": {},
   "outputs": [
    {
     "name": "stdout",
     "output_type": "stream",
     "text": [
      "/workspace/flair\n"
     ]
    }
   ],
   "source": [
    "%cd /workspace/flair\n",
    "# !python -m spacy download en_core_web_lg"
   ]
  },
  {
   "cell_type": "code",
   "execution_count": 10,
   "metadata": {},
   "outputs": [
    {
     "name": "stdout",
     "output_type": "stream",
     "text": [
      "[['human', 'interface', 'computer'],\n",
      " ['survey', 'user', 'computer', 'system', 'response', 'time'],\n",
      " ['eps', 'user', 'interface', 'system'],\n",
      " ['system', 'human', 'system', 'eps'],\n",
      " ['user', 'response', 'time'],\n",
      " ['trees'],\n",
      " ['graph', 'trees'],\n",
      " ['graph', 'minors', 'trees'],\n",
      " ['graph', 'minors', 'survey']]\n",
      "Dictionary(12 unique tokens: ['computer', 'human', 'interface', 'response', 'survey']...)\n"
     ]
    }
   ],
   "source": [
    "documents = [\n",
    "    \"Human machine interface for lab abc computer applications\",\n",
    "    \"A survey of user opinion of computer system response time\",\n",
    "    \"The EPS user interface management system\",\n",
    "    \"System and human system engineering testing of EPS\",\n",
    "    \"Relation of user perceived response time to error measurement\",\n",
    "    \"The generation of random binary unordered trees\",\n",
    "    \"The intersection graph of paths in trees\",\n",
    "    \"Graph minors IV Widths of trees and well quasi ordering\",\n",
    "    \"Graph minors A survey\",\n",
    "]\n",
    "\n",
    "from pprint import pprint  # pretty-printer\n",
    "from collections import defaultdict\n",
    "\n",
    "# remove common words and tokenize\n",
    "stoplist = set('for a of the and to in'.split())\n",
    "texts = [\n",
    "    [word for word in document.lower().split() if word not in stoplist]\n",
    "    for document in documents\n",
    "]\n",
    "\n",
    "# remove words that appear only once\n",
    "frequency = defaultdict(int)\n",
    "for text in texts:\n",
    "    for token in text:\n",
    "        frequency[token] += 1\n",
    "\n",
    "texts = [\n",
    "    [token for token in text if frequency[token] > 1]\n",
    "    for text in texts\n",
    "]\n",
    "\n",
    "pprint(texts)\n",
    "\n",
    "from gensim import corpora\n",
    "\n",
    "dictionary = corpora.Dictionary(texts)\n",
    "dictionary.save('/tmp/deerwester.dict')  # store the dictionary, for future reference\n",
    "print(dictionary)"
   ]
  },
  {
   "cell_type": "code",
   "execution_count": 46,
   "metadata": {},
   "outputs": [
    {
     "data": {
      "text/plain": [
       "[(0,\n",
       "  '0.215*\"graph\" + 0.151*\"trees\" + 0.150*\"minors\" + 0.120*\"system\" + 0.089*\"survey\" + 0.075*\"human\" + 0.071*\"eps\" + 0.027*\"user\" + 0.026*\"interface\" + 0.025*\"computer\"'),\n",
       " (1,\n",
       "  '0.173*\"user\" + 0.172*\"time\" + 0.170*\"response\" + 0.101*\"computer\" + 0.100*\"system\" + 0.100*\"survey\" + 0.036*\"trees\" + 0.032*\"graph\" + 0.030*\"minors\" + 0.028*\"human\"'),\n",
       " (2,\n",
       "  '0.172*\"interface\" + 0.146*\"system\" + 0.121*\"eps\" + 0.117*\"human\" + 0.100*\"user\" + 0.099*\"trees\" + 0.099*\"computer\" + 0.031*\"graph\" + 0.030*\"minors\" + 0.029*\"survey\"')]"
      ]
     },
     "execution_count": 46,
     "metadata": {},
     "output_type": "execute_result"
    }
   ],
   "source": [
    "from gensim import models\n",
    "\n",
    "tfidf = models.TfidfModel(corpus)  # step 1 -- initialize a model\n",
    "corpus_tfidf = tfidf[corpus]\n",
    "# for doc in corpus_tfidf:\n",
    "#     print(doc)\n",
    "\n",
    "# lsi_model = models.LsiModel(corpus_tfidf, id2word=dictionary, num_topics=3)  # initialize an LSI transformation\n",
    "model = models.LdaModel(corpus, id2word=dictionary, num_topics=3)\n",
    "corpus_lsi = model[corpus_tfidf]  # create a double wrapper over the original corpus: bow->tfidf->fold-in-lsi\n",
    "model.print_topics(3)\n",
    "\n",
    "# both bow->tfidf and tfidf->lsi transformations are actually executed here, on the fly\n",
    "# for doc, as_text in zip(corpus_lsi, documents):\n",
    "#     print(doc, as_text)\n"
   ]
  },
  {
   "cell_type": "code",
   "execution_count": 18,
   "metadata": {},
   "outputs": [
    {
     "name": "stdout",
     "output_type": "stream",
     "text": [
      "dog dog 1.0\n",
      "dog cat 0.80168545\n",
      "dog banana 0.24327646\n",
      "cat dog 0.80168545\n",
      "cat cat 1.0\n",
      "cat banana 0.2815437\n",
      "banana dog 0.24327646\n",
      "banana cat 0.2815437\n",
      "banana banana 1.0\n"
     ]
    }
   ],
   "source": [
    "import spacy\n",
    "from spacy import displacy\n",
    "\n",
    "nlp = spacy.load(\"en_core_web_lg\")  # make sure to use larger model!"
   ]
  },
  {
   "cell_type": "code",
   "execution_count": 27,
   "metadata": {},
   "outputs": [
    {
     "name": "stdout",
     "output_type": "stream",
     "text": [
      "AXP American 0.041551307\n",
      "AXP Express 0.011548235\n",
      "AXP Company -0.17779963\n"
     ]
    }
   ],
   "source": [
    "# F,Ford Motor Company,NYQ,Auto Manufacturers - Major,USA,,,\n",
    "# MSFT,Microsoft Corporation,NMS,Business Software & Services,USA,,,\n",
    "tks = nlp(\"AXP American Express Company\")\n",
    "# t1, t2 = nlp(\"F Ford\")\n",
    "\n",
    "# for token in tks:\n",
    "#     print(token.text, token.has_vector, token.vector_norm, token.is_oov)\n",
    "\n",
    "# for token1 in tks:\n",
    "token1 = tks[0]\n",
    "for token2 in tks[1:]:\n",
    "    print(token1.text, token2.text, token1.similarity(token2))"
   ]
  },
  {
   "cell_type": "code",
   "execution_count": 40,
   "metadata": {},
   "outputs": [
    {
     "name": "stdout",
     "output_type": "stream",
     "text": [
      "The Walt Disney Company\n"
     ]
    }
   ],
   "source": [
    "t1 = \"The Walt Disney Company\"\n",
    "t2 = \"The Walt Disney\"\n",
    "d1 = nlp(t1)\n",
    "d2 = nlp(t2)\n",
    "\n",
    "# type(doc.ents[0])\n",
    "# displacy.render(doc, style=\"ent\")\n",
    "# s = doc.ents[0]\n",
    "# s.vector\n",
    "# d1.similarity(d2)\n"
   ]
  },
  {
   "cell_type": "code",
   "execution_count": 2,
   "metadata": {},
   "outputs": [],
   "source": [
    "import spacy\n",
    "\n",
    "\n",
    "t = 'NEW YORK -- Yields on most certificates of deposit offered by major banks dropped more than a tenth of a percentage point in the latest week, reflecting the overall decline in short-term interest rates. On small-denomination, or \"consumer,\" CDs sold directly by banks, the average yield on six-month deposits fell to 5.49% from 5.62% in the week ended yesterday, according to an 18-bank survey by Banxquote Money Markets, a Wilmington, Del., information service.</br></br>On three-month \"consumer\" deposits, the average yield sank to 5.29% from 5.42% the week before, according to Banxquote. Two banks in the Banxquote survey, Citibank in New York and CoreStates in Pennsylvania, are paying less than 5% on threemonth small-denomination CDs.</br></br>Declines were somewhat smaller on five-year consumer CDs, which eased to 7.37% from 7.45%, Banxquote said.</br></br>Yields on three-month and six-month Treasury bills sold at Monday\\'s auction plummeted more than a fifth of a percentage point from the previous week, to 5.46% and 5.63%, respectively.'\n",
    "\n",
    "nlp = spacy.load(\"en_core_web_sm\")\n",
    "doc = nlp(t)"
   ]
  },
  {
   "cell_type": "code",
   "execution_count": 6,
   "metadata": {},
   "outputs": [],
   "source": [
    "for ent in doc.ents:\n",
    "    print(ent.text, ent.start_char, ent.end_char, ent.label_)\n",
    "displacy.render(doc, style=\"ent\")\n",
    "doc[0]\n",
    "doc[0].text, doc[0].ent_type_, doc[0].ent_kb_id_"
   ]
  },
  {
   "cell_type": "code",
   "execution_count": 8,
   "metadata": {},
   "outputs": [
    {
     "name": "stdout",
     "output_type": "stream",
     "text": [
      "2020-03-11 13:55:31,270 Reading data from /root/.flair/datasets/trec_6\n",
      "2020-03-11 13:55:31,271 Train: /root/.flair/datasets/trec_6/train.txt\n",
      "2020-03-11 13:55:31,272 Dev: None\n",
      "2020-03-11 13:55:31,273 Test: /root/.flair/datasets/trec_6/test.txt\n",
      "2020-03-11 13:55:32,692 Computing label dictionary. Progress:\n"
     ]
    },
    {
     "name": "stderr",
     "output_type": "stream",
     "text": [
      "\n",
      "  0%|          | 0/4907 [00:00<?, ?it/s]\u001b[A\n",
      "  9%|▉         | 438/4907 [00:00<00:01, 4378.73it/s]\u001b[A\n",
      " 30%|██▉       | 1454/4907 [00:00<00:00, 5279.09it/s]\u001b[A\n",
      "100%|██████████| 4907/4907 [00:00<00:00, 13164.31it/s][A"
     ]
    },
    {
     "name": "stdout",
     "output_type": "stream",
     "text": [
      "2020-03-11 13:55:33,107 [b'LOC', b'DESC', b'ENTY', b'NUM', b'HUM', b'ABBR']\n"
     ]
    },
    {
     "name": "stderr",
     "output_type": "stream",
     "text": [
      "\n"
     ]
    },
    {
     "name": "stdout",
     "output_type": "stream",
     "text": [
      "2020-03-11 13:55:34,439 https://s3.eu-central-1.amazonaws.com/alan-nlp/resources/embeddings/glove.gensim not found in cache, downloading to /tmp/tmp4ky3oa1v\n"
     ]
    },
    {
     "name": "stderr",
     "output_type": "stream",
     "text": [
      "\n",
      "  0%|          | 0/21494764 [00:00<?, ?B/s]\u001b[A\n",
      "  0%|          | 1024/21494764 [00:00<1:28:32, 4046.10B/s]\u001b[A\n",
      "  0%|          | 34816/21494764 [00:00<1:02:43, 5702.65B/s]\u001b[A\n",
      "  0%|          | 87040/21494764 [00:00<44:10, 8076.04B/s]  \u001b[A\n",
      "  1%|          | 139264/21494764 [00:00<31:03, 11458.89B/s]\u001b[A\n",
      "  1%|          | 208896/21494764 [00:01<22:01, 16102.60B/s]\u001b[A\n",
      "  2%|▏         | 417792/21494764 [00:01<15:19, 22918.87B/s]\u001b[A\n",
      "  2%|▏         | 491520/21494764 [00:01<10:56, 31996.21B/s]\u001b[A\n",
      "  3%|▎         | 696320/21494764 [00:01<07:38, 45402.28B/s]\u001b[A\n",
      "  4%|▍         | 922624/21494764 [00:01<05:21, 64082.77B/s]\u001b[A\n",
      "  6%|▌         | 1270784/21494764 [00:01<03:42, 90824.20B/s]\u001b[A\n",
      "  8%|▊         | 1758208/21494764 [00:01<02:33, 128685.86B/s]\u001b[A\n",
      "  9%|▉         | 2032640/21494764 [00:01<01:48, 179940.14B/s]\u001b[A\n",
      " 12%|█▏        | 2497536/21494764 [00:01<01:15, 252862.10B/s]\u001b[A\n",
      " 13%|█▎        | 2825216/21494764 [00:02<00:53, 347951.15B/s]\u001b[A\n",
      " 15%|█▌        | 3326976/21494764 [00:02<00:37, 481955.26B/s]\u001b[A\n",
      " 18%|█▊        | 3835904/21494764 [00:02<00:26, 661633.70B/s]\u001b[A\n",
      " 20%|█▉        | 4242432/21494764 [00:02<00:19, 870598.63B/s]\u001b[A\n",
      " 22%|██▏       | 4626432/21494764 [00:02<00:15, 1118181.53B/s]\u001b[A\n",
      " 23%|██▎       | 4995072/21494764 [00:02<00:12, 1368852.78B/s]\u001b[A\n",
      " 25%|██▍       | 5339136/21494764 [00:02<00:10, 1607663.43B/s]\u001b[A\n",
      " 30%|██▉       | 6417408/21494764 [00:02<00:06, 2158719.18B/s]\u001b[A\n",
      " 32%|███▏      | 6967296/21494764 [00:06<00:33, 434464.70B/s] \u001b[A\n",
      " 37%|███▋      | 7914496/21494764 [00:06<00:22, 604409.04B/s]\u001b[A\n",
      " 39%|███▉      | 8394752/21494764 [00:06<00:16, 788648.29B/s]\u001b[A\n",
      " 41%|████▏     | 8868864/21494764 [00:06<00:12, 1051646.42B/s]\u001b[A\n",
      " 44%|████▍     | 9517056/21494764 [00:07<00:08, 1403045.43B/s]\u001b[A\n",
      " 47%|████▋     | 10012672/21494764 [00:07<00:06, 1751429.64B/s]\u001b[A\n",
      " 49%|████▉     | 10484736/21494764 [00:07<00:05, 2019049.15B/s]\u001b[A\n",
      " 52%|█████▏    | 11154432/21494764 [00:07<00:04, 2554285.26B/s]\u001b[A\n",
      " 56%|█████▌    | 11977728/21494764 [00:07<00:02, 3220224.14B/s]\u001b[A\n",
      " 58%|█████▊    | 12573696/21494764 [00:07<00:02, 3636248.36B/s]\u001b[A\n",
      " 61%|██████    | 13147136/21494764 [00:07<00:02, 3785534.10B/s]\u001b[A\n",
      " 64%|██████▎   | 13674496/21494764 [00:07<00:01, 3976930.21B/s]\u001b[A\n",
      " 66%|██████▌   | 14179328/21494764 [00:08<00:02, 3248086.49B/s]\u001b[A\n",
      " 68%|██████▊   | 14601216/21494764 [00:08<00:02, 2617779.41B/s]\u001b[A\n",
      " 71%|███████▏  | 15337472/21494764 [00:08<00:01, 3243374.88B/s]\u001b[A\n",
      " 74%|███████▍  | 15919104/21494764 [00:08<00:01, 3739069.74B/s]\u001b[A\n",
      " 76%|███████▋  | 16418816/21494764 [00:08<00:01, 3853781.98B/s]\u001b[A\n",
      " 79%|███████▊  | 16905216/21494764 [00:08<00:01, 4109586.24B/s]\u001b[A\n",
      " 81%|████████▏ | 17482752/21494764 [00:10<00:03, 1004597.71B/s]\u001b[A\n",
      " 83%|████████▎ | 17828864/21494764 [00:10<00:03, 1219944.81B/s]\u001b[A\n",
      " 87%|████████▋ | 18678784/21494764 [00:10<00:01, 1641747.04B/s]\u001b[A\n",
      " 90%|████████▉ | 19335168/21494764 [00:10<00:01, 2113818.18B/s]\u001b[A\n",
      " 92%|█████████▏| 19861504/21494764 [00:10<00:00, 2221036.42B/s]\u001b[A\n",
      " 94%|█████████▍| 20304896/21494764 [00:11<00:00, 2265991.53B/s]\u001b[A\n",
      " 44%|████▎     | 9363456/21494764 [02:40<2:34:23, 1309.59B/s]s]\u001b[A\n",
      "100%|██████████| 21494764/21494764 [00:12<00:00, 1757596.56B/s]\u001b[A"
     ]
    },
    {
     "name": "stdout",
     "output_type": "stream",
     "text": [
      "2020-03-11 13:55:48,008 copying /tmp/tmp4ky3oa1v to cache at /root/.flair/embeddings/glove.gensim\n",
      "2020-03-11 13:55:48,194 removing temp file /tmp/tmp4ky3oa1v\n"
     ]
    },
    {
     "name": "stderr",
     "output_type": "stream",
     "text": [
      "\n"
     ]
    },
    {
     "ename": "ValueError",
     "evalue": "cannot reshape array of size 417659 into shape (400000,100)",
     "output_type": "error",
     "traceback": [
      "\u001b[0;31m---------------------------------------------------------------------------\u001b[0m",
      "\u001b[0;31mValueError\u001b[0m                                Traceback (most recent call last)",
      "\u001b[0;32m<ipython-input-8-0f4aae45ba35>\u001b[0m in \u001b[0;36m<module>\u001b[0;34m\u001b[0m\n\u001b[1;32m      8\u001b[0m \u001b[0mcorpus\u001b[0m \u001b[0;34m=\u001b[0m \u001b[0mTREC_6\u001b[0m\u001b[0;34m(\u001b[0m\u001b[0;34m)\u001b[0m\u001b[0;34m\u001b[0m\u001b[0;34m\u001b[0m\u001b[0m\n\u001b[1;32m      9\u001b[0m \u001b[0mlabel_dict\u001b[0m \u001b[0;34m=\u001b[0m \u001b[0mcorpus\u001b[0m\u001b[0;34m.\u001b[0m\u001b[0mmake_label_dictionary\u001b[0m\u001b[0;34m(\u001b[0m\u001b[0;34m)\u001b[0m\u001b[0;34m\u001b[0m\u001b[0;34m\u001b[0m\u001b[0m\n\u001b[0;32m---> 10\u001b[0;31m word_embeddings = [WordEmbeddings('glove'),\n\u001b[0m\u001b[1;32m     11\u001b[0m                    \u001b[0;31m# comment in flair embeddings for state-of-the-art results\u001b[0m\u001b[0;34m\u001b[0m\u001b[0;34m\u001b[0m\u001b[0;34m\u001b[0m\u001b[0m\n\u001b[1;32m     12\u001b[0m                    \u001b[0;31m# FlairEmbeddings('news-forward'),\u001b[0m\u001b[0;34m\u001b[0m\u001b[0;34m\u001b[0m\u001b[0;34m\u001b[0m\u001b[0m\n",
      "\u001b[0;32m/workspace/flair/flair/embeddings.py\u001b[0m in \u001b[0;36m__init__\u001b[0;34m(self, embeddings, field)\u001b[0m\n\u001b[1;32m    323\u001b[0m         \u001b[0;32melse\u001b[0m\u001b[0;34m:\u001b[0m\u001b[0;34m\u001b[0m\u001b[0;34m\u001b[0m\u001b[0m\n\u001b[1;32m    324\u001b[0m             self.precomputed_word_embeddings = gensim.models.KeyedVectors.load(\n\u001b[0;32m--> 325\u001b[0;31m                 \u001b[0mstr\u001b[0m\u001b[0;34m(\u001b[0m\u001b[0membeddings\u001b[0m\u001b[0;34m)\u001b[0m\u001b[0;34m\u001b[0m\u001b[0;34m\u001b[0m\u001b[0m\n\u001b[0m\u001b[1;32m    326\u001b[0m             )\n\u001b[1;32m    327\u001b[0m \u001b[0;34m\u001b[0m\u001b[0m\n",
      "\u001b[0;32m/opt/conda/lib/python3.7/site-packages/gensim/models/keyedvectors.py\u001b[0m in \u001b[0;36mload\u001b[0;34m(cls, fname_or_handle, **kwargs)\u001b[0m\n\u001b[1;32m   1538\u001b[0m     \u001b[0;34m@\u001b[0m\u001b[0mclassmethod\u001b[0m\u001b[0;34m\u001b[0m\u001b[0;34m\u001b[0m\u001b[0m\n\u001b[1;32m   1539\u001b[0m     \u001b[0;32mdef\u001b[0m \u001b[0mload\u001b[0m\u001b[0;34m(\u001b[0m\u001b[0mcls\u001b[0m\u001b[0;34m,\u001b[0m \u001b[0mfname_or_handle\u001b[0m\u001b[0;34m,\u001b[0m \u001b[0;34m**\u001b[0m\u001b[0mkwargs\u001b[0m\u001b[0;34m)\u001b[0m\u001b[0;34m:\u001b[0m\u001b[0;34m\u001b[0m\u001b[0;34m\u001b[0m\u001b[0m\n\u001b[0;32m-> 1540\u001b[0;31m         \u001b[0mmodel\u001b[0m \u001b[0;34m=\u001b[0m \u001b[0msuper\u001b[0m\u001b[0;34m(\u001b[0m\u001b[0mWordEmbeddingsKeyedVectors\u001b[0m\u001b[0;34m,\u001b[0m \u001b[0mcls\u001b[0m\u001b[0;34m)\u001b[0m\u001b[0;34m.\u001b[0m\u001b[0mload\u001b[0m\u001b[0;34m(\u001b[0m\u001b[0mfname_or_handle\u001b[0m\u001b[0;34m,\u001b[0m \u001b[0;34m**\u001b[0m\u001b[0mkwargs\u001b[0m\u001b[0;34m)\u001b[0m\u001b[0;34m\u001b[0m\u001b[0;34m\u001b[0m\u001b[0m\n\u001b[0m\u001b[1;32m   1541\u001b[0m         \u001b[0;32mif\u001b[0m \u001b[0misinstance\u001b[0m\u001b[0;34m(\u001b[0m\u001b[0mmodel\u001b[0m\u001b[0;34m,\u001b[0m \u001b[0mFastTextKeyedVectors\u001b[0m\u001b[0;34m)\u001b[0m\u001b[0;34m:\u001b[0m\u001b[0;34m\u001b[0m\u001b[0;34m\u001b[0m\u001b[0m\n\u001b[1;32m   1542\u001b[0m             \u001b[0;32mif\u001b[0m \u001b[0;32mnot\u001b[0m \u001b[0mhasattr\u001b[0m\u001b[0;34m(\u001b[0m\u001b[0mmodel\u001b[0m\u001b[0;34m,\u001b[0m \u001b[0;34m'compatible_hash'\u001b[0m\u001b[0;34m)\u001b[0m\u001b[0;34m:\u001b[0m\u001b[0;34m\u001b[0m\u001b[0;34m\u001b[0m\u001b[0m\n",
      "\u001b[0;32m/opt/conda/lib/python3.7/site-packages/gensim/models/keyedvectors.py\u001b[0m in \u001b[0;36mload\u001b[0;34m(cls, fname_or_handle, **kwargs)\u001b[0m\n\u001b[1;32m    226\u001b[0m     \u001b[0;34m@\u001b[0m\u001b[0mclassmethod\u001b[0m\u001b[0;34m\u001b[0m\u001b[0;34m\u001b[0m\u001b[0m\n\u001b[1;32m    227\u001b[0m     \u001b[0;32mdef\u001b[0m \u001b[0mload\u001b[0m\u001b[0;34m(\u001b[0m\u001b[0mcls\u001b[0m\u001b[0;34m,\u001b[0m \u001b[0mfname_or_handle\u001b[0m\u001b[0;34m,\u001b[0m \u001b[0;34m**\u001b[0m\u001b[0mkwargs\u001b[0m\u001b[0;34m)\u001b[0m\u001b[0;34m:\u001b[0m\u001b[0;34m\u001b[0m\u001b[0;34m\u001b[0m\u001b[0m\n\u001b[0;32m--> 228\u001b[0;31m         \u001b[0;32mreturn\u001b[0m \u001b[0msuper\u001b[0m\u001b[0;34m(\u001b[0m\u001b[0mBaseKeyedVectors\u001b[0m\u001b[0;34m,\u001b[0m \u001b[0mcls\u001b[0m\u001b[0;34m)\u001b[0m\u001b[0;34m.\u001b[0m\u001b[0mload\u001b[0m\u001b[0;34m(\u001b[0m\u001b[0mfname_or_handle\u001b[0m\u001b[0;34m,\u001b[0m \u001b[0;34m**\u001b[0m\u001b[0mkwargs\u001b[0m\u001b[0;34m)\u001b[0m\u001b[0;34m\u001b[0m\u001b[0;34m\u001b[0m\u001b[0m\n\u001b[0m\u001b[1;32m    229\u001b[0m \u001b[0;34m\u001b[0m\u001b[0m\n\u001b[1;32m    230\u001b[0m     \u001b[0;32mdef\u001b[0m \u001b[0msimilarity\u001b[0m\u001b[0;34m(\u001b[0m\u001b[0mself\u001b[0m\u001b[0;34m,\u001b[0m \u001b[0mentity1\u001b[0m\u001b[0;34m,\u001b[0m \u001b[0mentity2\u001b[0m\u001b[0;34m)\u001b[0m\u001b[0;34m:\u001b[0m\u001b[0;34m\u001b[0m\u001b[0;34m\u001b[0m\u001b[0m\n",
      "\u001b[0;32m/opt/conda/lib/python3.7/site-packages/gensim/utils.py\u001b[0m in \u001b[0;36mload\u001b[0;34m(cls, fname, mmap)\u001b[0m\n\u001b[1;32m    425\u001b[0m \u001b[0;34m\u001b[0m\u001b[0m\n\u001b[1;32m    426\u001b[0m         \u001b[0mobj\u001b[0m \u001b[0;34m=\u001b[0m \u001b[0munpickle\u001b[0m\u001b[0;34m(\u001b[0m\u001b[0mfname\u001b[0m\u001b[0;34m)\u001b[0m\u001b[0;34m\u001b[0m\u001b[0;34m\u001b[0m\u001b[0m\n\u001b[0;32m--> 427\u001b[0;31m         \u001b[0mobj\u001b[0m\u001b[0;34m.\u001b[0m\u001b[0m_load_specials\u001b[0m\u001b[0;34m(\u001b[0m\u001b[0mfname\u001b[0m\u001b[0;34m,\u001b[0m \u001b[0mmmap\u001b[0m\u001b[0;34m,\u001b[0m \u001b[0mcompress\u001b[0m\u001b[0;34m,\u001b[0m \u001b[0msubname\u001b[0m\u001b[0;34m)\u001b[0m\u001b[0;34m\u001b[0m\u001b[0;34m\u001b[0m\u001b[0m\n\u001b[0m\u001b[1;32m    428\u001b[0m         \u001b[0mlogger\u001b[0m\u001b[0;34m.\u001b[0m\u001b[0minfo\u001b[0m\u001b[0;34m(\u001b[0m\u001b[0;34m\"loaded %s\"\u001b[0m\u001b[0;34m,\u001b[0m \u001b[0mfname\u001b[0m\u001b[0;34m)\u001b[0m\u001b[0;34m\u001b[0m\u001b[0;34m\u001b[0m\u001b[0m\n\u001b[1;32m    429\u001b[0m         \u001b[0;32mreturn\u001b[0m \u001b[0mobj\u001b[0m\u001b[0;34m\u001b[0m\u001b[0;34m\u001b[0m\u001b[0m\n",
      "\u001b[0;32m/opt/conda/lib/python3.7/site-packages/gensim/utils.py\u001b[0m in \u001b[0;36m_load_specials\u001b[0;34m(self, fname, mmap, compress, subname)\u001b[0m\n\u001b[1;32m    467\u001b[0m                 \u001b[0mval\u001b[0m \u001b[0;34m=\u001b[0m \u001b[0mnp\u001b[0m\u001b[0;34m.\u001b[0m\u001b[0mload\u001b[0m\u001b[0;34m(\u001b[0m\u001b[0msubname\u001b[0m\u001b[0;34m(\u001b[0m\u001b[0mfname\u001b[0m\u001b[0;34m,\u001b[0m \u001b[0mattrib\u001b[0m\u001b[0;34m)\u001b[0m\u001b[0;34m)\u001b[0m\u001b[0;34m[\u001b[0m\u001b[0;34m'val'\u001b[0m\u001b[0;34m]\u001b[0m\u001b[0;34m\u001b[0m\u001b[0;34m\u001b[0m\u001b[0m\n\u001b[1;32m    468\u001b[0m             \u001b[0;32melse\u001b[0m\u001b[0;34m:\u001b[0m\u001b[0;34m\u001b[0m\u001b[0;34m\u001b[0m\u001b[0m\n\u001b[0;32m--> 469\u001b[0;31m                 \u001b[0mval\u001b[0m \u001b[0;34m=\u001b[0m \u001b[0mnp\u001b[0m\u001b[0;34m.\u001b[0m\u001b[0mload\u001b[0m\u001b[0;34m(\u001b[0m\u001b[0msubname\u001b[0m\u001b[0;34m(\u001b[0m\u001b[0mfname\u001b[0m\u001b[0;34m,\u001b[0m \u001b[0mattrib\u001b[0m\u001b[0;34m)\u001b[0m\u001b[0;34m,\u001b[0m \u001b[0mmmap_mode\u001b[0m\u001b[0;34m=\u001b[0m\u001b[0mmmap\u001b[0m\u001b[0;34m)\u001b[0m\u001b[0;34m\u001b[0m\u001b[0;34m\u001b[0m\u001b[0m\n\u001b[0m\u001b[1;32m    470\u001b[0m \u001b[0;34m\u001b[0m\u001b[0m\n\u001b[1;32m    471\u001b[0m             \u001b[0;32mwith\u001b[0m \u001b[0mignore_deprecation_warning\u001b[0m\u001b[0;34m(\u001b[0m\u001b[0;34m)\u001b[0m\u001b[0;34m:\u001b[0m\u001b[0;34m\u001b[0m\u001b[0;34m\u001b[0m\u001b[0m\n",
      "\u001b[0;32m/opt/conda/lib/python3.7/site-packages/numpy/lib/npyio.py\u001b[0m in \u001b[0;36mload\u001b[0;34m(file, mmap_mode, allow_pickle, fix_imports, encoding)\u001b[0m\n\u001b[1;32m    445\u001b[0m             \u001b[0;32melse\u001b[0m\u001b[0;34m:\u001b[0m\u001b[0;34m\u001b[0m\u001b[0;34m\u001b[0m\u001b[0m\n\u001b[1;32m    446\u001b[0m                 return format.read_array(fid, allow_pickle=allow_pickle,\n\u001b[0;32m--> 447\u001b[0;31m                                          pickle_kwargs=pickle_kwargs)\n\u001b[0m\u001b[1;32m    448\u001b[0m         \u001b[0;32melse\u001b[0m\u001b[0;34m:\u001b[0m\u001b[0;34m\u001b[0m\u001b[0;34m\u001b[0m\u001b[0m\n\u001b[1;32m    449\u001b[0m             \u001b[0;31m# Try a pickle\u001b[0m\u001b[0;34m\u001b[0m\u001b[0;34m\u001b[0m\u001b[0;34m\u001b[0m\u001b[0m\n",
      "\u001b[0;32m/opt/conda/lib/python3.7/site-packages/numpy/lib/format.py\u001b[0m in \u001b[0;36mread_array\u001b[0;34m(fp, allow_pickle, pickle_kwargs)\u001b[0m\n\u001b[1;32m    740\u001b[0m             \u001b[0marray\u001b[0m \u001b[0;34m=\u001b[0m \u001b[0marray\u001b[0m\u001b[0;34m.\u001b[0m\u001b[0mtranspose\u001b[0m\u001b[0;34m(\u001b[0m\u001b[0;34m)\u001b[0m\u001b[0;34m\u001b[0m\u001b[0;34m\u001b[0m\u001b[0m\n\u001b[1;32m    741\u001b[0m         \u001b[0;32melse\u001b[0m\u001b[0;34m:\u001b[0m\u001b[0;34m\u001b[0m\u001b[0;34m\u001b[0m\u001b[0m\n\u001b[0;32m--> 742\u001b[0;31m             \u001b[0marray\u001b[0m\u001b[0;34m.\u001b[0m\u001b[0mshape\u001b[0m \u001b[0;34m=\u001b[0m \u001b[0mshape\u001b[0m\u001b[0;34m\u001b[0m\u001b[0;34m\u001b[0m\u001b[0m\n\u001b[0m\u001b[1;32m    743\u001b[0m \u001b[0;34m\u001b[0m\u001b[0m\n\u001b[1;32m    744\u001b[0m     \u001b[0;32mreturn\u001b[0m \u001b[0marray\u001b[0m\u001b[0;34m\u001b[0m\u001b[0;34m\u001b[0m\u001b[0m\n",
      "\u001b[0;31mValueError\u001b[0m: cannot reshape array of size 417659 into shape (400000,100)"
     ]
    }
   ],
   "source": [
    "from flair.data import Corpus\n",
    "from flair.datasets import TREC_6\n",
    "from flair.embeddings import WordEmbeddings, FlairEmbeddings, DocumentRNNEmbeddings\n",
    "from flair.models import TextClassifier\n",
    "from flair.trainers import ModelTrainer\n",
    "\n",
    "\n",
    "corpus = TREC_6()\n",
    "label_dict = corpus.make_label_dictionary()\n",
    "word_embeddings = [WordEmbeddings('glove'),\n",
    "                   # comment in flair embeddings for state-of-the-art results\n",
    "                   # FlairEmbeddings('news-forward'),\n",
    "                   # FlairEmbeddings('news-backward'),\n",
    "                   ]\n",
    "document_embeddings = DocumentRNNEmbeddings(word_embeddings, hidden_size=512, reproject_words=True, reproject_words_dimension=256)\n",
    "classifier = TextClassifier(document_embeddings, label_dictionary=label_dict)\n",
    "trainer = ModelTrainer(classifier, corpus)\n",
    "\n",
    "trainer.train('resources/taggers/ag_news',\n",
    "              learning_rate=0.1,\n",
    "              mini_batch_size=32,\n",
    "              anneal_factor=0.5,\n",
    "              patience=5,\n",
    "              max_epochs=150)\n",
    "\n",
    "from flair.visual.training_curves import Plotter\n",
    "plotter = Plotter()\n",
    "plotter.plot_weights('resources/taggers/ag_news/weights.txt')"
   ]
  },
  {
   "cell_type": "code",
   "execution_count": null,
   "metadata": {},
   "outputs": [],
   "source": [
    "from flair.models import TextClassifier\n",
    "from flair.data import Sentence\n",
    "\n",
    "classifier = TextClassifier.load('en-sentiment')\n",
    "sentence = Sentence('Flair is pretty neat!')\n",
    "\n",
    "classifier.predict(sentence)\n",
    "# print sentence with predicted labels\n",
    "\n",
    "print('Sentence above is: ', sentence.labels)"
   ]
  },
  {
   "cell_type": "code",
   "execution_count": 4,
   "metadata": {},
   "outputs": [
    {
     "name": "stdout",
     "output_type": "stream",
     "text": [
      "2020-03-11 13:28:36,083 loading file /root/.flair/models/en-chunk-conll2000-fast-v0.4.pt\n",
      "iTV <S-NP> Will <B-VP> Boost <E-VP> Apple <B-NP> http:\\/\\/t.co\\/8dup4cQc08 <I-NP> $ <I-NP> #APPLE <E-NP>\n"
     ]
    }
   ],
   "source": [
    "from flair.data import Sentence\n",
    "from flair.models import SequenceTagger\n",
    "\n",
    "# t = 'NEW YORK -- Yields on most certificates of deposit offered by major banks dropped more than a tenth of a percentage point in the latest week, reflecting the overall decline in short-term interest rates.</br></br>On small-denomination, or \"consumer,\" CDs sold directly by banks, the average yield on six-month deposits fell to 5.49% from 5.62% in the week ended yesterday, according to an 18-bank survey by Banxquote Money Markets, a Wilmington, Del., information service.</br></br>On three-month \"consumer\" deposits, the average yield sank to 5.29% from 5.42% the week before, according to Banxquote. Two banks in the Banxquote survey, Citibank in New York and CoreStates in Pennsylvania, are paying less than 5% on threemonth small-denomination CDs.</br></br>Declines were somewhat smaller on five-year consumer CDs, which eased to 7.37% from 7.45%, Banxquote said.</br></br>Yields on three-month and six-month Treasury bills sold at Monday\\'s auction plummeted more than a fifth of a percentage point from the previous week, to 5.46% and 5.63%, respectively.'\n",
    "t = \"iTV Will Boost Apple http:\\/\\/t.co\\/8dup4cQc08 $AAPL #APPLE\"\n",
    "t = t.replace(\"AAPL\", \"\")\n",
    "\n",
    "sentence = Sentence(t)\n",
    "# [x for x in sentence]\n",
    "\n",
    "tagger = SequenceTagger.load(\"chunk-fast\")\n",
    "# tagger = SequenceTagger.load(\"ner-ontonotes-fast\")\n",
    "tagger.predict(sentence)\n",
    "\n",
    "# print(\"Analysing %s\" % sentence)\n",
    "print(sentence.to_tagged_string())"
   ]
  },
  {
   "cell_type": "code",
   "execution_count": 5,
   "metadata": {},
   "outputs": [
    {
     "data": {
      "text/plain": [
       "[<NP-span (1): \"iTV\">,\n",
       " <VP-span (2,3): \"Will Boost\">,\n",
       " <NP-span (4,5,6,7): \"Apple http:\\/\\/t.co\\/8dup4cQc08 $ #APPLE\">]"
      ]
     },
     "execution_count": 5,
     "metadata": {},
     "output_type": "execute_result"
    }
   ],
   "source": [
    "sentence.get_spans('np')"
   ]
  },
  {
   "cell_type": "code",
   "execution_count": 4,
   "metadata": {},
   "outputs": [
    {
     "name": "stdout",
     "output_type": "stream",
     "text": [
      "2020-02-28 06:10:34,080 https://s3.eu-central-1.amazonaws.com/alan-nlp/resources/models-v0.4/release-chunk-fast-0/en-chunk-conll2000-fast-v0.4.pt not found in cache, downloading to /tmp/tmpdhmzfc8v\n"
     ]
    },
    {
     "name": "stderr",
     "output_type": "stream",
     "text": [
      "100%|██████████| 75233247/75233247 [00:37<00:00, 2018218.86B/s]"
     ]
    },
    {
     "name": "stdout",
     "output_type": "stream",
     "text": [
      "2020-02-28 06:11:13,724 copying /tmp/tmpdhmzfc8v to cache at /root/.flair/models/en-chunk-conll2000-fast-v0.4.pt\n"
     ]
    },
    {
     "name": "stderr",
     "output_type": "stream",
     "text": [
      "\n"
     ]
    },
    {
     "name": "stdout",
     "output_type": "stream",
     "text": [
      "2020-02-28 06:11:13,899 removing temp file /tmp/tmpdhmzfc8v\n",
      "2020-02-28 06:11:13,930 loading file /root/.flair/models/en-chunk-conll2000-fast-v0.4.pt\n"
     ]
    },
    {
     "data": {
      "text/plain": [
       "'NEW <B-NP> YORK <E-NP> -- Yields <S-NP> on <S-PP> most <B-NP> certificates <E-NP> of <S-PP> deposit <S-NP> offered <S-VP> by <S-PP> major <B-NP> banks <E-NP> dropped <S-VP> more <B-NP> than <I-NP> a <I-NP> tenth <E-NP> of <S-PP> a <B-NP> percentage <I-NP> point <E-NP> in <S-PP> the <B-NP> latest <I-NP> week, <E-NP> reflecting <S-VP> the <B-NP> overall <I-NP> decline <E-NP> in <S-PP> short-term <B-NP> interest <I-NP> rates.</br></br>On <E-NP> small-denomination, or \"consumer,\" <B-NP> CDs <E-NP> sold <S-VP> directly <S-ADVP> by <S-PP> banks, <S-NP> the <B-NP> average <I-NP> yield <E-NP> on <S-PP> six-month <B-NP> deposits <E-NP> fell <S-VP> to <S-PP> 5.49% <S-NP> from <S-PP> 5.62% <S-NP> in <S-PP> the <B-NP> week <E-NP> ended <S-VP> yesterday, <S-NP> according <S-PP> to <S-PP> an <B-NP> 18-bank <I-NP> survey <E-NP> by <S-PP> Banxquote <B-NP> Money <I-NP> Markets, <E-NP> a <B-NP> Wilmington, <I-NP> Del., <I-NP> information <I-NP> service.</br></br>On <I-NP> three-month <I-NP> \"consumer\" <E-NP> deposits, the <B-NP> average <I-NP> yield <E-NP> sank <S-VP> to <S-PP> 5.29% <S-NP> from <S-PP> 5.42% <S-NP> the <B-NP> week <E-NP> before, according <S-PP> to <S-PP> Banxquote. <B-NP> Two <I-NP> banks <E-NP> in <S-PP> the <B-NP> Banxquote <I-NP> survey, <I-NP> Citibank <E-NP> in <S-PP> New <B-NP> York <E-NP> and CoreStates <S-NP> in <S-PP> Pennsylvania, <S-NP> are <B-VP> paying <E-VP> less <B-NP> than <I-NP> 5% <E-NP> on <S-PP> threemonth <B-NP> small-denomination <I-NP> CDs.</br></br>Declines <E-NP> were <S-VP> somewhat <B-ADJP> smaller <E-ADJP> on <S-PP> five-year <B-NP> consumer <I-NP> CDs, <E-NP> which <S-NP> eased <S-VP> to <S-PP> 7.37% <S-NP> from <S-PP> 7.45%, <B-NP> Banxquote <I-NP> said.</br></br>Yields <E-NP> on <S-PP> three-month <B-NP> and <I-NP> six-month <I-NP> Treasury <I-NP> bills <E-NP> sold <S-VP> at <S-PP> Monday\\'s <B-NP> auction <E-NP> plummeted <S-VP> more <B-NP> than <I-NP> a <I-NP> fifth <E-NP> of <S-PP> a <B-NP> percentage <I-NP> point <E-NP> from <S-PP> the <B-NP> previous <I-NP> week, <E-NP> to <S-PP> 5.46% <S-NP> and 5.63%, <S-NP> respectively.'"
      ]
     },
     "execution_count": 4,
     "metadata": {},
     "output_type": "execute_result"
    }
   ],
   "source": [
    "from flair.data import Sentence\n",
    "from flair.models import SequenceTagger\n",
    "\n",
    "t = 'NEW YORK -- Yields on most certificates of deposit offered by major banks dropped more than a tenth of a percentage point in the latest week, reflecting the overall decline in short-term interest rates.</br></br>On small-denomination, or \"consumer,\" CDs sold directly by banks, the average yield on six-month deposits fell to 5.49% from 5.62% in the week ended yesterday, according to an 18-bank survey by Banxquote Money Markets, a Wilmington, Del., information service.</br></br>On three-month \"consumer\" deposits, the average yield sank to 5.29% from 5.42% the week before, according to Banxquote. Two banks in the Banxquote survey, Citibank in New York and CoreStates in Pennsylvania, are paying less than 5% on threemonth small-denomination CDs.</br></br>Declines were somewhat smaller on five-year consumer CDs, which eased to 7.37% from 7.45%, Banxquote said.</br></br>Yields on three-month and six-month Treasury bills sold at Monday\\'s auction plummeted more than a fifth of a percentage point from the previous week, to 5.46% and 5.63%, respectively.'\n",
    "\n",
    "tagger = SequenceTagger.load(\"chunk-fast\")\n",
    "sentence = Sentence(t)\n",
    "tagger.predict(sentence)\n",
    "sentence.to_tagged_string()"
   ]
  },
  {
   "cell_type": "code",
   "execution_count": 5,
   "metadata": {},
   "outputs": [],
   "source": [
    "for entity in sentence.get_spans('ner'):\n",
    "    print(entity)"
   ]
  },
  {
   "cell_type": "code",
   "execution_count": 13,
   "metadata": {},
   "outputs": [
    {
     "data": {
      "text/plain": [
       "'Dow Falls 45.95, Late GM Surge Stanches Losses'"
      ]
     },
     "execution_count": 13,
     "metadata": {},
     "output_type": "execute_result"
    }
   ],
   "source": [
    "import pandas as pd\n",
    "\n",
    "df = pd.read_csv(\"/workspace/flair/data/Full-Economic-News-DFE-839861.csv\", encoding='ISO-8859-1')\n",
    "# df.head\n",
    "# _unit_id,_golden,_unit_state,_trusted_judgments,_last_judgment_at,positivity,positivity:confidence,relevance,relevance:confidence,articleid,date,headline,positivity_gold,relevance_gold,text\n",
    "# a, b, c = df.loc[0, [\"date\", \"headline\", \"text\"]]\n",
    "df.loc[10, [\"date\", \"headline\", \"text\"]][1]"
   ]
  },
  {
   "cell_type": "code",
   "execution_count": 2,
   "metadata": {},
   "outputs": [
    {
     "name": "stdout",
     "output_type": "stream",
     "text": [
      "2020-02-26 13:30:40,873 https://s3.eu-central-1.amazonaws.com/alan-nlp/resources/models-v0.4/NER-conll03-english/en-ner-conll03-v0.4.pt not found in cache, downloading to /tmp/tmp4xhqochp\n"
     ]
    },
    {
     "name": "stderr",
     "output_type": "stream",
     "text": [
      "100%|██████████| 432197603/432197603 [47:36<00:00, 151296.68B/s] "
     ]
    },
    {
     "name": "stdout",
     "output_type": "stream",
     "text": [
      "2020-02-26 14:18:18,476 copying /tmp/tmp4xhqochp to cache at /root/.flair/models/en-ner-conll03-v0.4.pt\n"
     ]
    },
    {
     "name": "stderr",
     "output_type": "stream",
     "text": [
      "\n"
     ]
    },
    {
     "name": "stdout",
     "output_type": "stream",
     "text": [
      "2020-02-26 14:18:19,110 removing temp file /tmp/tmp4xhqochp\n",
      "2020-02-26 14:18:19,240 loading file /root/.flair/models/en-ner-conll03-v0.4.pt\n",
      "Analysing Sentence: \"George Washington went to Washington .\" - 6 Tokens\n",
      "\n",
      "The following NER tags are found: \n",
      "\n",
      "George <B-PER> Washington <E-PER> went to Washington <S-LOC> .\n"
     ]
    }
   ],
   "source": [
    "from flair.data import Sentence\n",
    "from flair.models import SequenceTagger\n",
    "\n",
    "tagger: SequenceTagger = SequenceTagger.load(\"ner\")\n",
    "\n",
    "sentence: Sentence = Sentence(\"George Washington went to Washington .\")\n",
    "tagger.predict(sentence)\n",
    "\n",
    "print(\"Analysing %s\" % sentence)\n",
    "print(\"\\nThe following NER tags are found: \\n\")\n",
    "print(sentence.to_tagged_string())"
   ]
  }
 ],
 "metadata": {
  "kernelspec": {
   "display_name": "Python 3",
   "language": "python",
   "name": "python3"
  }
 },
 "nbformat": 4,
 "nbformat_minor": 4
}
