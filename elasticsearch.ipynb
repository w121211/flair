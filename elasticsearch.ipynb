{
 "cells": [
  {
   "cell_type": "markdown",
   "metadata": {},
   "source": [
    "# elasticsearch"
   ]
  },
  {
   "cell_type": "code",
   "execution_count": 1,
   "metadata": {},
   "outputs": [],
   "source": [
    "# !pip install elasticsearch elasticsearch_dsl"
   ]
  },
  {
   "cell_type": "code",
   "execution_count": 7,
   "metadata": {},
   "outputs": [],
   "source": [
    "import elasticsearch\n",
    "from elasticsearch_dsl import connections, Document, Date, Keyword, Q, Search, Text, Range, Integer, Boolean\n",
    "\n",
    "\n",
    "class Entity(Document):\n",
    "    symbol = Keyword(index=False)  # either ticker, tag, null\n",
    "    \n",
    "    class Index:\n",
    "        name = \"temp\"\n",
    "        settings = {\n",
    "            'number_of_shards': 1,\n",
    "            'number_of_replicas': 0\n",
    "        }\n",
    "\n",
    "def init():\n",
    "    connections.create_connection(hosts=['es:9200'])\n",
    "    Entity.init()\n",
    "\n",
    "init()"
   ]
  }
 ],
 "metadata": {
  "kernelspec": {
   "display_name": "Python 3",
   "language": "python",
   "name": "python3"
  },
  "language_info": {
   "codemirror_mode": {
    "name": "ipython",
    "version": 3
   },
   "file_extension": ".py",
   "mimetype": "text/x-python",
   "name": "python",
   "nbconvert_exporter": "python",
   "pygments_lexer": "ipython3",
   "version": "3.7.4"
  }
 },
 "nbformat": 4,
 "nbformat_minor": 4
}
