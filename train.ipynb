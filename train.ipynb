{
 "cells": [
  {
   "cell_type": "markdown",
   "metadata": {},
   "source": [
    "\n",
    "投資人 --> $機會 --> 資訊流 --> 事件 --> $機會/標的/時機 --> 決定投資 --> 標的物資訊的多元/充分 --> 判斷走勢/買/賣點 --> 投資\n",
    "                         --> 推薦 --> 可信度         --> 決定投資\n",
    "      --> 持有 --> 看盤 --> 判斷走勢/買/賣點 --> 操作\n",
    "      \n",
    "### Time-series\n",
    "\n",
    "\n",
    "\n",
    "### Event\n",
    "\n",
    "核心：\n",
    "\n",
    "* 爆炸度 -> 社群關注度（無人關注=可能性低/影響力低）\n",
    "* 什麼時候爆 -> 社群預測（預測spike？eg：下週會爆）\n",
    "* 影響誰 -> ML建議（依靠歷史事件、TS_embedding）、社群補充\n",
    "* 爆炸後續 -> 社群預測\n",
    "\n",
    "延伸：策略、\n",
    "\n",
    "需要的東西：\n",
    "\n",
    "* 屬性：類型、tags <- multi-classfication\n",
    "* 關聯TS <- multi-classfication, 關鍵字比對\n",
    "* 熱度 <- doc clustering\n",
    "* 歷史類似情況 -> doc/cluster vector + kNN\n",
    "* 重要度/爆炸度 <- social\n",
    "* 世界線\n",
    "* 意見\n",
    "* 關聯Doc\n",
    "\n",
    "### 評論\n",
    "\n",
    "核心：\n",
    "* 可信度\n",
    "* 多元\n",
    "* 充分\n",
    "\n",
    "### How\n",
    "\n",
    "doc --(spacy, flair / NER)--> tags, keywords, concepts --(EL)-> TS_n\n",
    "                          --> vector --(scikit, hdbscan)--> clusters / 動態cluster --> event_graph\n",
    "                                     --(knn)--> 相近doc/event\n",
    "                                     \n",
    "數據：\n",
    "\n",
    "1. ticker-news文本：http://fe.prod.ydn.yahoo.com/finance/industry.html\n",
    "2. ticker & company name list\n",
    "3. ticker-tweet\n",
    "\n",
    "\n",
    "任務\n",
    "\n",
    "1. Doc to tags\n",
    "    1. 關鍵字比對（no-model，ticker-news文本）：用TF-IDF找出新聞標題/內容的關鍵字，再與ticker全名做比較，找出ticker對應的用詞\n",
    "        （問題）若慣用詞與ticker全名完全不同時會fail，eg Alphabet & Google\n",
    "    2. multi-classification（BERT-based, ticker-news文本）：輸入新聞標題/內容，輸出ticker-labels\n",
    "    3. \n",
    "    \n",
    "2. sentence/doc to vec\n",
    "    1. Word2vec + avg.\n",
    "    2. BERT-based (sent level)\n",
    "    \n",
    "3. Doc clustering\n",
    "    1. Doc2vec\n",
    "    2. LDA\n",
    "\n",
    "\n",
    "TS_1 + 技術指標(<-TS_1) --(LSTM, TCN, attn)-> TS_1*\n",
    "TS_n --(LSTM, TCN, attn)-> TS_1*\n",
    "                       --> TSgraph(<-attn)\n",
    "                       --> embed_ts_vec\n",
    "\n",
    "event_graph --> 影響度\n",
    "            --> \n",
    "\n",
    "\n",
    "TS_y包括：\n",
    "\n",
    "* regressor(值): 下一期/n期的值（normalized)\n",
    "* class: 升/降/平\n",
    "* distribution: n期間的mu, var\n",
    "\n",
    "\n",
    "如何將event納入：\n",
    "\n",
    "* 如何表現event？graph, cluster ---> vec, ts, \n",
    "* Event ---轉化--> {作用力/作用點}=attention? + ts_vec + ts* -> ts\n",
    "* Event ---量化--> ts_event + ts_others ---> ts\n",
    "* event_graph ---[node embedding]--> event_vec -> \n",
    "* 訓練：negative sampling，有event/沒有event/不相關的event\n",
    "\n",
    "如何利用graph\n",
    "\n",
    "\n"
   ]
  },
  {
   "cell_type": "markdown",
   "metadata": {},
   "source": [
    "doc --(spacy, flair / NER)--> tags, keywords, concepts --(EL)-> TS_n\n",
    "                             ---> vector ---(scikit, hdbscan)---> clusters / 動態cluster\n",
    "\n",
    "TS_1 + 技術指標(<-TS_1) --(LSTM, TCN, attn)-> TS_1*\n",
    "TS_n --(LSTM, TCN, attn)-> TS_1*\n"
   ]
  },
  {
   "cell_type": "code",
   "execution_count": 3,
   "metadata": {},
   "outputs": [
    {
     "name": "stdout",
     "output_type": "stream",
     "text": [
      "/workspace/flair\n",
      "Collecting package metadata (current_repodata.json): done\n",
      "Solving environment: done\n",
      "\n",
      "## Package Plan ##\n",
      "\n",
      "  environment location: /opt/conda\n",
      "\n",
      "  added / updated specs:\n",
      "    - pandas\n",
      "\n",
      "\n",
      "The following packages will be downloaded:\n",
      "\n",
      "    package                    |            build\n",
      "    ---------------------------|-----------------\n",
      "    certifi-2019.11.28         |           py37_1         156 KB\n",
      "    conda-4.8.3                |           py37_0         2.8 MB\n",
      "    openssl-1.1.1e             |       h7b6447c_0         2.5 MB\n",
      "    pandas-1.0.3               |   py37h0573a6f_0         8.6 MB\n",
      "    ------------------------------------------------------------\n",
      "                                           Total:        14.1 MB\n",
      "\n",
      "The following NEW packages will be INSTALLED:\n",
      "\n",
      "  pandas             pkgs/main/linux-64::pandas-1.0.3-py37h0573a6f_0\n",
      "\n",
      "The following packages will be UPDATED:\n",
      "\n",
      "  certifi                                 2019.11.28-py37_0 --> 2019.11.28-py37_1\n",
      "  conda                                        4.8.2-py37_0 --> 4.8.3-py37_0\n",
      "  openssl                                 1.1.1d-h7b6447c_4 --> 1.1.1e-h7b6447c_0\n",
      "\n",
      "\n",
      "\n",
      "Downloading and Extracting Packages\n",
      "openssl-1.1.1e       | 2.5 MB    | ##################################### | 100% \n",
      "certifi-2019.11.28   | 156 KB    | ##################################### | 100% \n",
      "pandas-1.0.3         | 8.6 MB    | ##################################### | 100% \n",
      "conda-4.8.3          | 2.8 MB    | ##################################### | 100% \n",
      "Preparing transaction: done\n",
      "Verifying transaction: done\n",
      "Executing transaction: done\n"
     ]
    }
   ],
   "source": [
    "%cd /workspace/flair\n",
    "# !python train.py\n",
    "# !python predict.py"
   ]
  },
  {
   "cell_type": "code",
   "execution_count": 17,
   "metadata": {},
   "outputs": [],
   "source": [
    "import pandas as pd\n",
    "\n",
    "df = pd.read_csv(\"/workspace/flair/data/Full-Economic-News-DFE-839861.csv\", encoding='ISO-8859-1')"
   ]
  },
  {
   "cell_type": "code",
   "execution_count": 36,
   "metadata": {},
   "outputs": [
    {
     "data": {
      "text/plain": [
       "'NEW YORK -- Yields on most certificates of deposit offered by major banks dropped more than a tenth of a percentage point in the latest week, reflecting the overall decline in short-term interest rates.</br></br>On small-denomination, or \"consumer,\" CDs sold directly by banks, the average yield on six-month deposits fell to 5.49% from 5.62% in the week ended yesterday, according to an 18-bank survey by Banxquote Money Markets, a Wilmington, Del., information service.</br></br>On three-month \"consumer\" deposits, the average yield sank to 5.29% from 5.42% the week before, according to Banxquote. Two banks in the Banxquote survey, Citibank in New York and CoreStates in Pennsylvania, are paying less than 5% on threemonth small-denomination CDs.</br></br>Declines were somewhat smaller on five-year consumer CDs, which eased to 7.37% from 7.45%, Banxquote said.</br></br>Yields on three-month and six-month Treasury bills sold at Monday\\'s auction plummeted more than a fifth of a percentage point from the previous week, to 5.46% and 5.63%, respectively.'"
      ]
     },
     "execution_count": 36,
     "metadata": {},
     "output_type": "execute_result"
    }
   ],
   "source": [
    "# df.head\n",
    "# _unit_id,_golden,_unit_state,_trusted_judgments,_last_judgment_at,positivity,positivity:confidence,relevance,relevance:confidence,articleid,date,headline,positivity_gold,relevance_gold,text\n",
    "a, b, c = df.loc[0, [\"date\", \"headline\", \"text\"]]\n",
    "a\n",
    "b\n",
    "c"
   ]
  }
 ],
 "metadata": {
  "kernelspec": {
   "display_name": "Python 3",
   "language": "python",
   "name": "python3"
  },
  "language_info": {
   "codemirror_mode": {
    "name": "ipython",
    "version": 3
   },
   "file_extension": ".py",
   "mimetype": "text/x-python",
   "name": "python",
   "nbconvert_exporter": "python",
   "pygments_lexer": "ipython3",
   "version": "3.7.4"
  }
 },
 "nbformat": 4,
 "nbformat_minor": 2
}
